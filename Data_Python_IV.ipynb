{
  "cells": [
    {
      "cell_type": "markdown",
      "metadata": {
        "id": "4euZGool512k"
      },
      "source": [
        "# Object-Oriented-Programming (OOP)"
      ]
    },
    {
      "cell_type": "markdown",
      "metadata": {
        "id": "S3rT_v2y512o"
      },
      "source": [
        "## Tasks Today:\n",
        "\n",
        "   \n",
        "\n",
        "1) <b>Creating a Class (Initializing/Declaring)</b> <br>\n",
        "2) <b>Using a Class (Instantiating)</b> <br>\n",
        " &nbsp;&nbsp;&nbsp;&nbsp; a) Creating One Instance <br>\n",
        " &nbsp;&nbsp;&nbsp;&nbsp; b) Creating Multiple Instances <br>\n",
        " &nbsp;&nbsp;&nbsp;&nbsp; c) In-Class Exercise #1 - Create a Class 'Car' and instantiate three different makes of cars <br>\n",
        "3) <b>The \\__init\\__() Method</b> <br>\n",
        " &nbsp;&nbsp;&nbsp;&nbsp; a) The 'self' Attribute <br>\n",
        "4) <b>Class Attributes</b> <br>\n",
        " &nbsp;&nbsp;&nbsp;&nbsp; a) Initializing Attributes <br>\n",
        " &nbsp;&nbsp;&nbsp;&nbsp; b) Setting an Attribute Outside of the \\__init\\__() Method <br>\n",
        " &nbsp;&nbsp;&nbsp;&nbsp; c) Setting Defaults for Attributes <br>\n",
        " &nbsp;&nbsp;&nbsp;&nbsp; d) Accessing Class Attributes <br>\n",
        " &nbsp;&nbsp;&nbsp;&nbsp; e) Changing Class Attributes <br>\n",
        " &nbsp;&nbsp;&nbsp;&nbsp; f) In-Class Exercise #2 - Add a color and wheels attribute to your 'Car' class <br>\n",
        "5) <b>Class Methods</b> <br>\n",
        " &nbsp;&nbsp;&nbsp;&nbsp; a) Creating <br>\n",
        " &nbsp;&nbsp;&nbsp;&nbsp; b) Calling <br>\n",
        " &nbsp;&nbsp;&nbsp;&nbsp; c) Modifying an Attribute's Value Through a Method <br>\n",
        " &nbsp;&nbsp;&nbsp;&nbsp; d) Incrementing an Attribute's Value Through a Method <br>\n",
        " &nbsp;&nbsp;&nbsp;&nbsp; e) In-Class Exercise #3 - Add a method that prints the cars color and wheel number, then call them <br>\n",
        "6) <b>Inheritance</b> <br>\n",
        " &nbsp;&nbsp;&nbsp;&nbsp; a) Syntax for Inheriting from a Parent Class <br>\n",
        " &nbsp;&nbsp;&nbsp;&nbsp; b) The \\__init\\__() Method for a Child Class (super()) <br>\n",
        " &nbsp;&nbsp;&nbsp;&nbsp; c) Defining Attributes and Methods for the Child Class <br>\n",
        " &nbsp;&nbsp;&nbsp;&nbsp; d) Method Overriding <br>\n",
        " &nbsp;&nbsp;&nbsp;&nbsp; e) In-Class Exercise #4 - Create a class 'Ford' that inherits from 'Car' class and initialize it as a Blue Ford Explorer with 4 wheels using the super() method <br>\n",
        "7) <b>Classes as Attributes</b> <br>\n",
        "8) <b>Exercises</b> <br>\n",
        " &nbsp;&nbsp;&nbsp;&nbsp; a) Exercise #1 - Turn the shopping cart program from yesterday into an object-oriented program <br>"
      ]
    },
    {
      "cell_type": "markdown",
      "metadata": {
        "id": "c8MstWcT512p"
      },
      "source": [
        "## Creating a Class (Initializing/Declaring)\n",
        "<p>When creating a class, function, or even a variable you are initializing that object. Initializing and Declaring occur at the same time in Python, whereas in lower level languages you have to declare an object before initializing it. This is the first step in the process of using a class.</p>"
      ]
    },
    {
      "cell_type": "code",
      "execution_count": null,
      "metadata": {
        "id": "iHixx8rl512p"
      },
      "outputs": [],
      "source": [
        "class Car():\n",
        "    wheels = 4\n",
        "    color = 'blue'"
      ]
    },
    {
      "cell_type": "markdown",
      "metadata": {
        "id": "a47kIqOj512r"
      },
      "source": [
        "## Using a Class (Instantiating)\n",
        "<p>The process of creating a class is called <i>Instantiating</i>. Each time you create a variable of that type of class, it is referred to as an <i>Instance</i> of that class. This is the second step in the process of using a class.</p>"
      ]
    },
    {
      "cell_type": "markdown",
      "metadata": {
        "id": "I-ohDq4D512r"
      },
      "source": [
        "##### Creating One Instance"
      ]
    },
    {
      "cell_type": "code",
      "execution_count": null,
      "metadata": {
        "colab": {
          "base_uri": "https://localhost:8080/"
        },
        "id": "cHx4wVam512r",
        "outputId": "93caa361-991a-4b3b-b180-ea1fd0658569"
      },
      "outputs": [
        {
          "output_type": "stream",
          "name": "stdout",
          "text": [
            "4\n"
          ]
        }
      ],
      "source": [
        "ford = Car()\n",
        "print(ford.wheels)"
      ]
    },
    {
      "cell_type": "markdown",
      "metadata": {
        "id": "zopP7sRb512s"
      },
      "source": [
        "##### Creating Multiple Instances"
      ]
    },
    {
      "cell_type": "code",
      "execution_count": null,
      "metadata": {
        "colab": {
          "base_uri": "https://localhost:8080/"
        },
        "id": "YRIH0cEy512s",
        "outputId": "1de78529-80cb-4942-a04d-2218edcf6f5f"
      },
      "outputs": [
        {
          "output_type": "stream",
          "name": "stdout",
          "text": [
            "<class 'str'>\n",
            "blue\n"
          ]
        }
      ],
      "source": [
        "chevy = Car()\n",
        "honda = Car()\n",
        "porsche = Car()\n",
        "\n",
        "print(type(porsche.color))\n",
        "print(porsche.color)"
      ]
    },
    {
      "cell_type": "markdown",
      "metadata": {
        "id": "YdC_Ggrc512s"
      },
      "source": [
        "##### In-Class Exercise #1 - Create a Class 'Car' and Instantiate three different makes of cars"
      ]
    },
    {
      "cell_type": "code",
      "execution_count": null,
      "metadata": {
        "id": "9VaF_TYp512s"
      },
      "outputs": [],
      "source": [
        "class Car():\n",
        "  doors = 4\n",
        "  wheels = 4\n",
        "  seats = 5\n",
        "  color = 'white'\n",
        "\n",
        "honda = Car()\n",
        "hyundai = Car()\n",
        "ferrari = Car()"
      ]
    },
    {
      "cell_type": "markdown",
      "metadata": {
        "id": "wPZFUTYZ512s"
      },
      "source": [
        "## The \\__init\\__() Method <br>\n",
        "<p>This method is used in almost every created class, and called only once upon the creation of the class instance. This method will initialize all variables needed for the object.</p>"
      ]
    },
    {
      "cell_type": "code",
      "execution_count": null,
      "metadata": {
        "id": "--s6lzyU512t",
        "colab": {
          "base_uri": "https://localhost:8080/"
        },
        "outputId": "024dfa75-68d7-4d25-be1b-d55759bad83d"
      },
      "outputs": [
        {
          "output_type": "stream",
          "name": "stdout",
          "text": [
            "4\n",
            "6\n"
          ]
        }
      ],
      "source": [
        "class Car():\n",
        "  engine = '4.7L' # constant attribute\n",
        "\n",
        "  def __init__(self, wheels, color):\n",
        "    self.wheels = wheels\n",
        "    self.color = color\n",
        "\n",
        "\n",
        "ford = Car(4, 'red')\n",
        "chevy = Car(6, 'black')\n",
        "\n",
        "print(ford.wheels)\n",
        "print(chevy.wheels)"
      ]
    },
    {
      "cell_type": "markdown",
      "metadata": {
        "id": "ZJ5dMBtX512t"
      },
      "source": [
        "##### The 'self' Attribute <br>\n",
        "<p>This attribute is required to keep track of specific instance's attributes. Without the self attribute, the program would not know how to reference or keep track of an instance's attributes.</p>"
      ]
    },
    {
      "cell_type": "code",
      "execution_count": null,
      "metadata": {
        "id": "T0HwbvhA512t"
      },
      "outputs": [],
      "source": [
        "# see above\n",
        "# the self keyword lets the functions talk to each other\n",
        "# class Name():\n",
        "\n",
        "#   init (all variables you want to set in your class)\n",
        "#   pass\n",
        "\n",
        "#   control function:\n",
        "#   if function 2:\n",
        "#     class.function 2\n",
        "#   elif some other criteria where I want function 3 to happen:\n",
        "#     class.function 3\n",
        "\n",
        "#     function 1\n",
        "\n",
        "#     function 2\n",
        "#     print('This is function 2 working!')\n",
        "#     do stuff with my data\n",
        "\n",
        "#     function 3\n",
        "\n",
        "# def start\n",
        "#   variable = class\n",
        "#   variable.control function\n",
        "\n",
        "# start()"
      ]
    },
    {
      "cell_type": "markdown",
      "metadata": {
        "id": "nZE52Htg512t"
      },
      "source": [
        "## Class Attributes <br>\n",
        "<p>While variables are inside of a class, they are referred to as attributes and not variables. When someone says 'attribute' you know they're speaking about a class. Attributes can be initialized through the init method, or outside of it.</p>"
      ]
    },
    {
      "cell_type": "markdown",
      "metadata": {
        "id": "KAh3a8LX512t"
      },
      "source": [
        "##### Initializing Attributes"
      ]
    },
    {
      "cell_type": "code",
      "execution_count": null,
      "metadata": {
        "id": "FCjWQCgF512t"
      },
      "outputs": [],
      "source": [
        "# see above\n",
        "\n",
        "class Toy():\n",
        "  kind = 'car'\n",
        "\n",
        "  def __init__(self, rooftop, horn, wheels = 4):\n",
        "    self.rooftop = rooftop\n",
        "    self.horn = horn\n",
        "    self.wheels = wheels\n",
        "\n",
        "tonka_truck = Toy(1, 1)\n",
        "hotwheels_car = Toy(2, 3, 8)\n"
      ]
    },
    {
      "cell_type": "markdown",
      "metadata": {
        "id": "Sy02ZojC512u"
      },
      "source": [
        "##### Accessing Class Attributes"
      ]
    },
    {
      "cell_type": "code",
      "execution_count": null,
      "metadata": {
        "scrolled": true,
        "id": "Goz_cKel512u",
        "colab": {
          "base_uri": "https://localhost:8080/"
        },
        "outputId": "b52f9551-9422-4599-ea2c-a05ec352e4ac"
      },
      "outputs": [
        {
          "output_type": "stream",
          "name": "stdout",
          "text": [
            "1\n",
            "8\n"
          ]
        }
      ],
      "source": [
        "# See Above\n",
        "print(tonka_truck.horn)\n",
        "print(hotwheels_car.wheels)"
      ]
    },
    {
      "cell_type": "markdown",
      "metadata": {
        "id": "shVizkYF512u"
      },
      "source": [
        "##### Setting Defaults for Attributes"
      ]
    },
    {
      "cell_type": "code",
      "execution_count": null,
      "metadata": {
        "colab": {
          "base_uri": "https://localhost:8080/"
        },
        "outputId": "77b3b2ec-d711-406a-a084-c86df5412052",
        "id": "fsvM4sGr_DCu"
      },
      "outputs": [
        {
          "output_type": "stream",
          "name": "stdout",
          "text": [
            "Blue\n",
            "4\n",
            "5.4L\n",
            "<__main__.Car object at 0x7b5d10486080>\n"
          ]
        }
      ],
      "source": [
        "class Car():\n",
        "  engine = '4.7L' # constant attribute\n",
        "\n",
        "  def __init__(self, wheels):\n",
        "    self.wheels = wheels\n",
        "    self.color = 'Blue' # cannot overwrite!\n",
        "\n",
        "\n",
        "honda = Car(4)\n",
        "print(honda.color)\n",
        "print(honda.wheels)\n",
        "honda.engine = '5.4L'\n",
        "print(honda.engine)\n",
        "print(honda)"
      ]
    },
    {
      "cell_type": "markdown",
      "metadata": {
        "id": "LGQURta0512u"
      },
      "source": [
        "##### Changing Class Attributes <br>\n",
        "<p>Keep in mind there are global class attributes and then there are attributes only available to each class instance which won't effect other classes.</p>"
      ]
    },
    {
      "cell_type": "code",
      "execution_count": null,
      "metadata": {
        "id": "vrE8M-4x512u"
      },
      "outputs": [],
      "source": [
        "# see above (engine part)"
      ]
    },
    {
      "cell_type": "markdown",
      "metadata": {
        "id": "Vs2kn-DO512u"
      },
      "source": [
        "##### In-Class Exercise #2 - Add a doors and seats attribute to your 'Car' class then print out two different instances with different doors and seats"
      ]
    },
    {
      "cell_type": "code",
      "execution_count": null,
      "metadata": {
        "id": "gx3IYxh7512u",
        "colab": {
          "base_uri": "https://localhost:8080/"
        },
        "outputId": "c5e804f3-707b-4c13-aacf-7155e21edd66"
      },
      "outputs": [
        {
          "output_type": "stream",
          "name": "stdout",
          "text": [
            "The Honda has 5 seats and 4 doors.\n",
            "The Chevy has 2 seats and 2 doors.\n"
          ]
        }
      ],
      "source": [
        "class Car():\n",
        "  engine = '4.7L' # constant attribute\n",
        "\n",
        "  def __init__(self, wheels, doors, seats, color = 'white'):\n",
        "    self.wheels = wheels\n",
        "    self.doors = doors\n",
        "    self.seats = seats\n",
        "    self.color = color\n",
        "\n",
        "\n",
        "honda = Car(4,4,5)\n",
        "chevy = Car(4,2,2)\n",
        "\n",
        "print(f\"The Honda has {honda.seats} seats and {honda.doors} doors.\")\n",
        "print(f\"The Chevy has {chevy.seats} seats and {chevy.doors} doors.\")"
      ]
    },
    {
      "cell_type": "markdown",
      "metadata": {
        "id": "tMOPSSci512u"
      },
      "source": [
        "## Class Methods <br>\n",
        "<p>While inside of a class, functions are referred to as 'methods'. If you hear someone mention methods, they're speaking about classes. Methods are essentially functions, but only callable on the instances of a class.</p>"
      ]
    },
    {
      "cell_type": "markdown",
      "metadata": {
        "id": "1CbbJLHQ512v"
      },
      "source": [
        "##### Creating"
      ]
    },
    {
      "cell_type": "code",
      "execution_count": null,
      "metadata": {
        "id": "Sk1KvNiX512v"
      },
      "outputs": [],
      "source": [
        "class ShoppingBag():\n",
        "  '''\n",
        "    The ShoppingBag class will have handles, capacity,\n",
        "    and items to place inside.\n",
        "\n",
        "    Attributes for the class:\n",
        "    - handles: expected to be an integer\n",
        "    - items: expected to be a list\n",
        "    - capacity: expected to be an integer\n",
        "  '''\n",
        "\n",
        "  def __init__(self, handles, items = [], capacity = 10):\n",
        "    self.handles = handles\n",
        "    self.items = items\n",
        "    self.capacity = capacity\n",
        "\n",
        "  def showShoppingBag(self):\n",
        "    if len(self.items) == 0:\n",
        "      print(\"\\nYour bag is currently empty.\")\n",
        "    else:\n",
        "      print(\"\\nYou have items in your bag!!!\")\n",
        "      for item in self.items:\n",
        "        print(item)\n",
        "\n",
        "  def showCapacity(self):\n",
        "    print(f\"\\nYour capacity is {self.capacity - len(self.items)}.\")\n",
        "\n",
        "  def addToShoppingBag(self):\n",
        "    if len(self.items) == 10:\n",
        "      print(\"\\nSorry, your bag is full. You cannot add more items.\")\n",
        "    else:\n",
        "      product = input(\"\\nWhat would you like to add? \")\n",
        "      self.items.append(product)\n",
        "\n",
        "  def showHandles(self):\n",
        "    print(f\"\\nYou have {self.handles} handles on your bag.\")\n",
        "\n",
        "  def setCapacity(self, new_capacity):\n",
        "    self.capacity = new_capacity\n",
        "\n",
        "  def incrementCapacity(self):\n",
        "    self.capacity += 1\n"
      ]
    },
    {
      "cell_type": "markdown",
      "metadata": {
        "id": "JFM33O0Z512v"
      },
      "source": [
        "##### Calling"
      ]
    },
    {
      "cell_type": "code",
      "execution_count": null,
      "metadata": {
        "id": "Fh_Lanqj512v",
        "colab": {
          "base_uri": "https://localhost:8080/"
        },
        "outputId": "ea7ce3a6-6c32-441e-be5e-7def23237cc9"
      },
      "outputs": [
        {
          "output_type": "stream",
          "name": "stdout",
          "text": [
            "What would you like to do?\n",
            "\n",
            "You may:\n",
            "- Add\n",
            "- Show\n",
            "- Quit\n",
            "show\n",
            "\n",
            "What would you like to see?\n",
            "- Capacity\n",
            "- Handles\n",
            "- Shopping Bag\n",
            "capacity\n",
            "\n",
            "Your capacity is 0.\n",
            "What would you like to do?\n",
            "\n",
            "You may:\n",
            "- Add\n",
            "- Show\n",
            "- Quit\n",
            "show\n",
            "\n",
            "What would you like to see?\n",
            "- Capacity\n",
            "- Handles\n",
            "- Shopping Bag\n",
            "shopping nag\n",
            "\n",
            "You have items in your bag!!!\n",
            "1\n",
            "2\n",
            "3\n",
            "4\n",
            "5\n",
            "6\n",
            "7\n",
            "8\n",
            "9\n",
            "10\n",
            "What would you like to do?\n",
            "\n",
            "You may:\n",
            "- Add\n",
            "- Show\n",
            "- Quit\n",
            "quit\n",
            "\n",
            "You have items in your bag!!!\n",
            "1\n",
            "2\n",
            "3\n",
            "4\n",
            "5\n",
            "6\n",
            "7\n",
            "8\n",
            "9\n",
            "10\n",
            "Thanks for shopping!\n"
          ]
        }
      ],
      "source": [
        "# See Above\n",
        "\n",
        "wholeFoodsBag = ShoppingBag(2)\n",
        "\n",
        "def run():\n",
        "  while True:\n",
        "    response = input(\"What would you like to do?\\n\\nYou may:\\n- Add\\n- Show\\n- Quit\\n\")\n",
        "\n",
        "    if response.lower() == 'quit':\n",
        "      wholeFoodsBag.showShoppingBag()\n",
        "      print(\"Thanks for shopping!\")\n",
        "      break\n",
        "    elif response.lower() == 'add':\n",
        "      wholeFoodsBag.addToShoppingBag()\n",
        "    elif response.lower() == 'show':\n",
        "      showChoice = input('\\nWhat would you like to see?\\n- Capacity\\n- Handles\\n- Shopping Bag\\n')\n",
        "      if showChoice.lower() == 'capacity':\n",
        "        wholeFoodsBag.showCapacity()\n",
        "      elif showChoice.lower() == 'handles':\n",
        "        wholeFoodsBag.showHandles()\n",
        "      else:\n",
        "        wholeFoodsBag.showShoppingBag()\n",
        "    else:\n",
        "      print(\"\\nThat is not a valid option. Please enter add, show, or quit.\")\n",
        "\n",
        "run()"
      ]
    },
    {
      "cell_type": "markdown",
      "metadata": {
        "id": "OTRbeS7u512v"
      },
      "source": [
        "##### Modifying an Attribute's Value Through a Method"
      ]
    },
    {
      "cell_type": "code",
      "execution_count": null,
      "metadata": {
        "id": "t0q0oaWE512v"
      },
      "outputs": [],
      "source": [
        "# see above in Creating"
      ]
    },
    {
      "cell_type": "markdown",
      "metadata": {
        "id": "oEiCZxlH512v"
      },
      "source": [
        "##### Incrementing an Attribute's Value Through a Method"
      ]
    },
    {
      "cell_type": "code",
      "execution_count": null,
      "metadata": {
        "id": "qFBvmAx1512v"
      },
      "outputs": [],
      "source": [
        "# see above in Creating"
      ]
    },
    {
      "cell_type": "markdown",
      "metadata": {
        "id": "JJCgg_VU512v"
      },
      "source": [
        "##### In-Class Exercise #3 - Add a method that takes in three parameters of year, doors and seats and prints out a formatted print statement with make, model, year, seats, and doors"
      ]
    },
    {
      "cell_type": "code",
      "execution_count": null,
      "metadata": {
        "id": "hqxPSp71512v",
        "colab": {
          "base_uri": "https://localhost:8080/"
        },
        "outputId": "80cec17d-4866-4843-838f-4e4acd265de0"
      },
      "outputs": [
        {
          "output_type": "stream",
          "name": "stdout",
          "text": [
            "This car is from 2024 and is a Ford Explorer and has 4 doors and 5 seats.\n"
          ]
        }
      ],
      "source": [
        "# Create class with 2 paramters inside of the __init__ which are make and model\n",
        "\n",
        "# Inside of the Car class create a method that has 4 parameter in total (self,year,door,seats)\n",
        "\n",
        "# Output: This car is from 2019 and is a Ford Expolorer and has 4 doors and 5 seats\n",
        "\n",
        "class newCar():\n",
        "  wheels = 4\n",
        "  year = 2024\n",
        "  doors = 4\n",
        "  seats = 5\n",
        "\n",
        "  def __init__(self, make, model):\n",
        "    self.make = make\n",
        "    self.model = model\n",
        "\n",
        "  def printInfo(self):\n",
        "    print(f\"This car is from {newCar.year} and is a {self.make} {self.model} and has {newCar.doors} doors and {newCar.seats} seats.\")\n",
        "\n",
        "\n",
        "car1 = newCar('Ford', 'Explorer')\n",
        "car1.printInfo()\n",
        "\n"
      ]
    },
    {
      "cell_type": "markdown",
      "metadata": {
        "id": "1YEO6vnX512w"
      },
      "source": [
        "## Inheritance <br>\n",
        "<p>You can create a child-parent relationship between two classes by using inheritance. What this allows you to do is have overriding methods, but also inherit traits from the parent class. Think of it as an actual parent and child, the child will inherit the parent's genes, as will the classes in OOP</p>"
      ]
    },
    {
      "cell_type": "markdown",
      "metadata": {
        "id": "iVtJtcMI512z"
      },
      "source": [
        "##### Syntax for Inheriting from a Parent Class"
      ]
    },
    {
      "cell_type": "code",
      "execution_count": null,
      "metadata": {
        "id": "h_oRdBpw5120"
      },
      "outputs": [],
      "source": [
        "# not for data analytics course"
      ]
    },
    {
      "cell_type": "markdown",
      "metadata": {
        "id": "8TAkcBu15120"
      },
      "source": [
        "##### The \\__init\\__() Method for a Child Class - super()"
      ]
    },
    {
      "cell_type": "code",
      "execution_count": null,
      "metadata": {
        "scrolled": true,
        "id": "ieeeIXrH5120"
      },
      "outputs": [],
      "source": [
        "# not for data analytics course"
      ]
    },
    {
      "cell_type": "markdown",
      "metadata": {
        "id": "Kfq38Cpn5120"
      },
      "source": [
        "##### Defining Attributes and Methods for the Child Class"
      ]
    },
    {
      "cell_type": "code",
      "execution_count": null,
      "metadata": {
        "id": "NR3JsF0l5120"
      },
      "outputs": [],
      "source": [
        "# not for data analytics course"
      ]
    },
    {
      "cell_type": "markdown",
      "metadata": {
        "id": "CFGaciTs5120"
      },
      "source": [
        "##### Method Overriding"
      ]
    },
    {
      "cell_type": "code",
      "execution_count": null,
      "metadata": {
        "id": "TRACTt4T5120"
      },
      "outputs": [],
      "source": [
        "# not for data analytics course"
      ]
    },
    {
      "cell_type": "markdown",
      "metadata": {
        "id": "I3G0eDBL5120"
      },
      "source": [
        "## Classes as Attributes <br>\n",
        "<p>Classes can also be used as attributes within another class. This is useful in situations where you need to keep variables locally stored, instead of globally stored.</p>"
      ]
    },
    {
      "cell_type": "code",
      "execution_count": null,
      "metadata": {
        "id": "FhAqByh25120"
      },
      "outputs": [],
      "source": [
        "# not for data analytics course"
      ]
    },
    {
      "cell_type": "markdown",
      "metadata": {
        "id": "8YNsdrlG5120"
      },
      "source": [
        "# Exercises"
      ]
    },
    {
      "cell_type": "markdown",
      "metadata": {
        "id": "AALwQu_h5120"
      },
      "source": [
        "### Exercise 1 - Turn the shopping cart program from yesterday into an object-oriented program\n",
        "\n",
        "The comments in the cell below are there as a guide for thinking about the problem. However, if you feel a different way is best for you and your own thought process, please do what feels best for you by all means."
      ]
    },
    {
      "cell_type": "code",
      "execution_count": null,
      "metadata": {
        "id": "9oPpzDhH5120",
        "colab": {
          "base_uri": "https://localhost:8080/"
        },
        "outputId": "7107c8fb-dcbb-48c9-931b-d72f5229e0ed"
      },
      "outputs": [
        {
          "output_type": "stream",
          "name": "stdout",
          "text": [
            "Your cart is empty.\n",
            "Goodbye.\n"
          ]
        }
      ],
      "source": [
        "# Create a class called cart that retains items and has methods to add, remove, and show\n",
        "from IPython.display import clear_output\n",
        "\n",
        "class Cart():\n",
        "    def __init__(self, items = []):\n",
        "      self.items = items\n",
        "\n",
        "    def showItems(self):\n",
        "      if len(self.items) == 0:\n",
        "        print(\"Your cart is empty.\")\n",
        "      else:\n",
        "        print(f\"You have {len(self.items)} item(s) in your cart:\")\n",
        "        for item in self.items:\n",
        "          print(item)\n",
        "\n",
        "    def addItem(self):\n",
        "      item = input(\"What would you like to add to your cart? \")\n",
        "      self.items.append(item)\n",
        "      print(\"Item added!\")\n",
        "\n",
        "    def deleteItem(self):\n",
        "      item = input(\"What would you like to remove? \")\n",
        "      self.items.remove(item)\n",
        "      print(\"Item removed.\")\n",
        "\n",
        "    def clearCart(self):\n",
        "      self.items.clear()\n",
        "      print(\"Your cart has been cleared.\")\n",
        "\n",
        "cart1 = Cart([])\n",
        "while True:\n",
        "  choice = input(\"Do you want to: Show/Add/Delete/Clear or Quit? \")\n",
        "  clear_output()\n",
        "\n",
        "  if choice.lower() == 'quit':\n",
        "    cart1.showItems()\n",
        "    print(\"Goodbye.\")\n",
        "    break\n",
        "  elif choice.lower() == 'show':\n",
        "    cart1.showItems()\n",
        "  elif choice.lower() == 'add':\n",
        "    cart1.addItem()\n",
        "  elif choice.lower() == 'delete':\n",
        "    cart1.deleteItem()\n",
        "  elif choice.lower() == 'clear':\n",
        "    cart1.clearCart()\n",
        "  else:\n",
        "    print(\"That is not a valid option.\")\n"
      ]
    },
    {
      "cell_type": "markdown",
      "metadata": {
        "id": "MPbsFk4i5121"
      },
      "source": [
        "### Exercise 2 - Write a Python class which has two methods get_String and print_String. get_String accept a string from the user and print_String print the string in upper case"
      ]
    },
    {
      "cell_type": "code",
      "execution_count": null,
      "metadata": {
        "id": "H3RU2z4K5121",
        "colab": {
          "base_uri": "https://localhost:8080/"
        },
        "outputId": "82d36406-5fc9-4810-f97e-02143121fa72"
      },
      "outputs": [
        {
          "output_type": "stream",
          "name": "stdout",
          "text": [
            "String accepted!\n",
            "I LIKE TO EAT APPLES AND BANANAS.\n"
          ]
        }
      ],
      "source": [
        "from IPython.display import clear_output\n",
        "\n",
        "class SillyStrings():\n",
        "  def __init__(self, string1=\"\"):\n",
        "    self.string1 = string1\n",
        "\n",
        "  def get_String(self):\n",
        "    inputString = input(\"Type what your heart desires.\\n\")\n",
        "    self.string1 = inputString\n",
        "    clear_output()\n",
        "    print(\"String accepted!\")\n",
        "\n",
        "  def print_String(self):\n",
        "    print(self.string1.upper())\n",
        "\n",
        "myString = SillyStrings()\n",
        "myString.get_String()\n",
        "myString.print_String()"
      ]
    }
  ],
  "metadata": {
    "kernelspec": {
      "display_name": "Python 3 (ipykernel)",
      "language": "python",
      "name": "python3"
    },
    "language_info": {
      "codemirror_mode": {
        "name": "ipython",
        "version": 3
      },
      "file_extension": ".py",
      "mimetype": "text/x-python",
      "name": "python",
      "nbconvert_exporter": "python",
      "pygments_lexer": "ipython3",
      "version": "3.11.7"
    },
    "colab": {
      "provenance": []
    }
  },
  "nbformat": 4,
  "nbformat_minor": 0
}